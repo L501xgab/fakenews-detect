{
 "cells": [
  {
   "cell_type": "code",
   "execution_count": 24,
   "id": "1601a196",
   "metadata": {},
   "outputs": [],
   "source": [
    "from TwitterAPI import TwitterAPI\n",
    "import json\n",
    "\n",
    "with open('credentials.json', 'r') as f:\n",
    "    config = json.load(f)\n",
    "\n",
    "consumer_key = config['TWITTER']['consumer_key'] \n",
    "consumer_secret = config['TWITTER']['consumer_secret'] \n",
    "access_token_key = config['TWITTER']['access_token_key'] \n",
    "access_token_secret = config['TWITTER']['access_token_secret'] \n",
    "\n",
    "\n",
    "api = TwitterAPI(consumer_key, consumer_secret, access_token_key, access_token_secret)"
   ]
  },
  {
   "cell_type": "code",
   "execution_count": 27,
   "id": "941367c3",
   "metadata": {},
   "outputs": [
    {
     "name": "stdout",
     "output_type": "stream",
     "text": [
      "401\n"
     ]
    }
   ],
   "source": [
    "r = api.request('statuses/update', {'status':'This is a tweet!'})\n",
    "print(r.status_code)"
   ]
  },
  {
   "cell_type": "code",
   "execution_count": 31,
   "id": "77f6c1b8",
   "metadata": {},
   "outputs": [
    {
     "name": "stdout",
     "output_type": "stream",
     "text": [
      "{\"errors\":[{\"code\":89,\"message\":\"Invalid or expired token.\"}]}\n"
     ]
    }
   ],
   "source": [
    "r = api.request('statuses/show/:%d' % 1454013580748206081)\n",
    "print(r.text)"
   ]
  }
 ],
 "metadata": {
  "kernelspec": {
   "display_name": "Python 3",
   "language": "python",
   "name": "python3"
  },
  "language_info": {
   "codemirror_mode": {
    "name": "ipython",
    "version": 3
   },
   "file_extension": ".py",
   "mimetype": "text/x-python",
   "name": "python",
   "nbconvert_exporter": "python",
   "pygments_lexer": "ipython3",
   "version": "3.8.8"
  }
 },
 "nbformat": 4,
 "nbformat_minor": 5
}
